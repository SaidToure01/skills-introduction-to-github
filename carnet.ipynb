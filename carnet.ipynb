{
  "metadata": {
    "kernelspec": {
      "name": "python",
      "display_name": "Python (Pyodide)",
      "language": "python"
    },
    "language_info": {
      "codemirror_mode": {
        "name": "python",
        "version": 3
      },
      "file_extension": ".py",
      "mimetype": "text/x-python",
      "name": "python",
      "nbconvert_exporter": "python",
      "pygments_lexer": "ipython3",
      "version": "3.8"
    }
  },
  "nbformat_minor": 5,
  "nbformat": 4,
  "cells": [
    {
      "id": "27f6be08-83fb-4a69-9f2f-43119cdaf02d",
      "cell_type": "markdown",
      "source": "Cellule Introductive\n",
      "metadata": {}
    },
    {
      "id": "89d8b094-1b20-4b0a-b123-79c3b7399146",
      "cell_type": "markdown",
      "source": "Cellule Markdown pour lister les langages de la science des données\nLes principaux langages de la science des données sont :\n- Python\n- R\n- SQL",
      "metadata": {}
    },
    {
      "id": "5dddebfd-3990-4f98-aebb-59d31d2080c8",
      "cell_type": "markdown",
      "source": "Bibliothèques de science des données\n\nAvec Python\n- Plotly\n- Pandas \n- Scikit-learn  \nAvec R\n- ggplot2  \n- dplyr  \n- tidyr  \n- caret  ",
      "metadata": {}
    },
    {
      "id": "e130d9fe-208e-4e66-923b-29751a6ee7d9",
      "cell_type": "markdown",
      "source": "## Tableau des outils de la science des données\n\n| Catégorie                | Outil                | Description                                             |\n|--------------------------|----------------------|---------------------------------------------------------|\n| Langage de programmation | Python              -| Langage polyvalent largement utilisé en data science    |\n| Langage de programmation | R                   -| Spécialisé en statistiques et visualisation             |\n| Manipulation de données  | Pandas (Python)     -| Bibliothèque pour le traitement de données              |\n| Visualisation            | ggplot2 (R)          | Outil de visualisation basé sur la grammaire des graphes|\n| Machine learning         | Scikit-learn (Python)| Outil de modélisation et d'apprentissage automatique    |\n| Base de données          | SQL                  | Langage pour interroger les bases de données            |\n",
      "metadata": {}
    },
    {
      "id": "f069b947-58bb-451c-8b1d-4c887584d1ae",
      "cell_type": "markdown",
      "source": "cellule markdown présentant des exemples d'expressions arithmétiques\n\nAdditions : 3+4\n\nSoustraction : 4-2\n\nMultiplication : 3*4\n\nDivision : 4/2",
      "metadata": {}
    },
    {
      "id": "5dffe8d0-a429-4643-baa0-b6fd15006029",
      "cell_type": "code",
      "source": "# Créez une cellule de code pour multiplier et additionner des nombres\n3+4\n\n2*6",
      "metadata": {
        "trusted": true
      },
      "outputs": [
        {
          "execution_count": 2,
          "output_type": "execute_result",
          "data": {
            "text/plain": "12"
          },
          "metadata": {}
        }
      ],
      "execution_count": 2
    },
    {
      "id": "b4c8e0e9-1308-41e4-9e79-a5683b642237",
      "cell_type": "code",
      "source": "# Créez une cellule de code pour convertir les minutes en heures.\n# Convertissons 3600 minutes en Heure\n\n3600/60",
      "metadata": {
        "trusted": true
      },
      "outputs": [
        {
          "execution_count": 4,
          "output_type": "execute_result",
          "data": {
            "text/plain": "60.0"
          },
          "metadata": {}
        }
      ],
      "execution_count": 4
    },
    {
      "id": "118a97ed-ca31-40a3-aade-5f2d81c0e680",
      "cell_type": "markdown",
      "source": "Insérez une cellule markdown pour lister les objectifs.\n\nL'objectif de ce Markdown est de :\n\n- Tester ses compétences en création d’un fichier Markdown.\n- Vérifier la maîtrise des commandes de base.\n- Identifier les éléments clés propres à la science des données, notamment :\n  - Les langages utilisés.\n  - Les bibliothèques principales.",
      "metadata": {}
    },
    {
      "id": "d30a9054-d6fa-4958-8fce-5c75cd2946be",
      "cell_type": "markdown",
      "source": "Auteur : DRABO Seydou",
      "metadata": {}
    }
  ]
}