{
  "metadata": {
    "kernelspec": {
      "name": "python",
      "display_name": "Python (Pyodide)",
      "language": "python"
    },
    "language_info": {
      "codemirror_mode": {
        "name": "python",
        "version": 3
      },
      "file_extension": ".py",
      "mimetype": "text/x-python",
      "name": "python",
      "nbconvert_exporter": "python",
      "pygments_lexer": "ipython3",
      "version": "3.8"
    }
  },
  "nbformat_minor": 5,
  "nbformat": 4,
  "cells": [
    {
      "id": "2501f4d3-434c-4961-b7cb-d0d48c03cbdd",
      "cell_type": "markdown",
      "source": "# Data Science Tools and Ecosystem",
      "metadata": {}
    },
    {
      "id": "89d8b094-1b20-4b0a-b123-79c3b7399146",
      "cell_type": "markdown",
      "source": "Some of the popular languages that Data Scientists use are:\n\n- Python\n- R\n- SQL\n- Scala",
      "metadata": {}
    },
    {
      "id": "5dddebfd-3990-4f98-aebb-59d31d2080c8",
      "cell_type": "markdown",
      "source": "Some of the commonly used libraries used by Data Scientists include:\n\nwith Python\n- Plotly\n- numpy\n- Pandas \n- Scikit-learn  \nAvec R\n- ggplot2  \n- dplyr  \n- tidyr  \n- caret  ",
      "metadata": {}
    },
    {
      "id": "e130d9fe-208e-4e66-923b-29751a6ee7d9",
      "cell_type": "markdown",
      "source": "## Tableau des outils de la science des données\n\n| Catégorie                | Outil                | Description                                             |\n|--------------------------|----------------------|---------------------------------------------------------|\n| Langage de programmation | Python              -| Langage polyvalent largement utilisé en data science    |\n| Langage de programmation | R                   -| Spécialisé en statistiques et visualisation             |\n| Manipulation de données  | Pandas (Python)     -| Bibliothèque pour le traitement de données              |\n| Visualisation            | ggplot2 (R)          | Outil de visualisation basé sur la grammaire des graphes|\n| Machine learning         | Scikit-learn (Python)| Outil de modélisation et d'apprentissage automatique    |\n| Base de données          | SQL                  | Langage pour interroger les bases de données            |\n",
      "metadata": {}
    },
    {
      "id": "4ff805c0-e3a8-4163-9345-99bb83cfb5e5",
      "cell_type": "markdown",
      "source": "### Below are a few examples of evaluating arithmetic expressions in Python.",
      "metadata": {}
    },
    {
      "id": "f069b947-58bb-451c-8b1d-4c887584d1ae",
      "cell_type": "markdown",
      "source": "cellule markdown présentant des exemples d'expressions arithmétiques\n\nAdditions : 3+4\n\nSoustraction : 4-2\n\nMultiplication : 3*4\n\nDivision : 4/2",
      "metadata": {}
    },
    {
      "id": "5dffe8d0-a429-4643-baa0-b6fd15006029",
      "cell_type": "code",
      "source": "# Créez une cellule de code pour multiplier et additionner des nombres\n(3*4)+5",
      "metadata": {
        "trusted": true
      },
      "outputs": [
        {
          "execution_count": 6,
          "output_type": "execute_result",
          "data": {
            "text/plain": "17"
          },
          "metadata": {}
        }
      ],
      "execution_count": 6
    },
    {
      "id": "b4c8e0e9-1308-41e4-9e79-a5683b642237",
      "cell_type": "code",
      "source": "# Créez une cellule de code pour convertir les minutes en heures.\n# Convertissons 3600 minutes en Heure\n\n200/60",
      "metadata": {
        "trusted": true
      },
      "outputs": [
        {
          "execution_count": 7,
          "output_type": "execute_result",
          "data": {
            "text/plain": "3.3333333333333335"
          },
          "metadata": {}
        }
      ],
      "execution_count": 7
    },
    {
      "id": "118a97ed-ca31-40a3-aade-5f2d81c0e680",
      "cell_type": "markdown",
      "source": "**Objectives:**\n- les languages\n- les packages\n- Tester ses compétences en création d’un fichier Markdown.\n- Vérifier la maîtrise des commandes de base.\n- Identifier les éléments clés propres à la science des données, notamment :\n  - Les langages utilisés.\n  - Les bibliothèques principales.",
      "metadata": {}
    },
    {
      "id": "d30a9054-d6fa-4958-8fce-5c75cd2946be",
      "cell_type": "markdown",
      "source": "## Auteur : DRABO Seydou",
      "metadata": {}
    }
  ]
}